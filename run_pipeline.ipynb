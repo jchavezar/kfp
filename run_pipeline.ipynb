{
 "cells": [
  {
   "cell_type": "code",
   "execution_count": 9,
   "id": "7d02ded0-6ed2-4e8d-8965-b355cfbb0a5d",
   "metadata": {},
   "outputs": [],
   "source": [
    "import kfp\n",
    "import os\n",
    "\n",
    "\n",
    "os.environ['GOOGLE_APPLICATION_CREDENTIALS'] = '/home/sockcop/k/k.json'\n",
    "\n",
    "client = kfp.Client(host='https://11f0f736521255cb-dot-us-central1.pipelines.googleusercontent.com')"
   ]
  },
  {
   "cell_type": "markdown",
   "id": "13585fec-48e6-4b39-b6b2-ec862d36a822",
   "metadata": {},
   "source": [
    "## Create component from python function (decorator)"
   ]
  },
  {
   "cell_type": "code",
   "execution_count": 10,
   "id": "49b1a6c0-e0b5-4a26-ad85-c0ef17b5e8cb",
   "metadata": {},
   "outputs": [],
   "source": [
    "from kfp.v2.dsl import component\n",
    "\n",
    "@component\n",
    "def test(x: str) -> str:\n",
    "    return x\n",
    "\n",
    "@kfp.dsl.pipeline(name='testing')\n",
    "def pipeline():\n",
    "    test_task = test('hello')"
   ]
  },
  {
   "cell_type": "code",
   "execution_count": null,
   "id": "cc52ed0b-2775-46d3-99cb-265c8f9e3903",
   "metadata": {},
   "outputs": [],
   "source": []
  },
  {
   "cell_type": "code",
   "execution_count": 11,
   "id": "7be237de-3192-46ee-bac8-56b326eb83eb",
   "metadata": {},
   "outputs": [],
   "source": [
    "kfp.compiler.Compiler().compile(\n",
    "    pipeline_func=pipeline,\n",
    "    package_path='pipeline.yaml'\n",
    ")"
   ]
  },
  {
   "cell_type": "code",
   "execution_count": 12,
   "id": "55aa1407-d4cb-4a8a-a924-01b4e29df396",
   "metadata": {},
   "outputs": [
    {
     "data": {
      "text/html": [
       "<a href=\"https://11f0f736521255cb-dot-us-central1.pipelines.googleusercontent.com/#/experiments/details/48ef2e12-8406-4773-8eea-1909c9876633\" target=\"_blank\" >Experiment details</a>."
      ],
      "text/plain": [
       "<IPython.core.display.HTML object>"
      ]
     },
     "metadata": {},
     "output_type": "display_data"
    },
    {
     "data": {
      "text/html": [
       "<a href=\"https://11f0f736521255cb-dot-us-central1.pipelines.googleusercontent.com/#/runs/details/e89914f6-3eb0-4d9e-85d7-88bcb8acdf7b\" target=\"_blank\" >Run details</a>."
      ],
      "text/plain": [
       "<IPython.core.display.HTML object>"
      ]
     },
     "metadata": {},
     "output_type": "display_data"
    },
    {
     "data": {
      "text/plain": [
       "RunPipelineResult(run_id=e89914f6-3eb0-4d9e-85d7-88bcb8acdf7b)"
      ]
     },
     "execution_count": 12,
     "metadata": {},
     "output_type": "execute_result"
    }
   ],
   "source": [
    "client.create_run_from_pipeline_func(\n",
    "    pipeline,\n",
    "    arguments={},\n",
    "    mode=kfp.dsl.PipelineExecutionMode.V2_COMPATIBLE\n",
    ")"
   ]
  },
  {
   "cell_type": "markdown",
   "id": "6bc6ee60-501b-4b03-90f3-f990bf7bc62f",
   "metadata": {},
   "source": [
    "## ## Create component kfp.components (create_component_from_func)"
   ]
  },
  {
   "cell_type": "code",
   "execution_count": 14,
   "id": "f806ddca-53a8-4339-9c7a-15d4cb66f49e",
   "metadata": {},
   "outputs": [],
   "source": [
    "from kfp.components import create_component_from_func\n",
    "\n",
    "def add(a: float, b: float) -> float:\n",
    "    '''calculates sum of 2 arguments'''\n",
    "    return a+b\n",
    "\n",
    "add_op = create_component_from_func(\n",
    "    add,\n",
    "    output_component_file='add_component.yaml'\n",
    ")\n",
    "\n",
    "@kfp.dsl.pipeline(name='operation')\n",
    "def pipeline_op():\n",
    "    test_task = add_op(5,5)"
   ]
  },
  {
   "cell_type": "code",
   "execution_count": 15,
   "id": "80905fce-19d7-4ac7-8eda-6915b9f8ac63",
   "metadata": {},
   "outputs": [
    {
     "data": {
      "text/html": [
       "<a href=\"https://11f0f736521255cb-dot-us-central1.pipelines.googleusercontent.com/#/experiments/details/48ef2e12-8406-4773-8eea-1909c9876633\" target=\"_blank\" >Experiment details</a>."
      ],
      "text/plain": [
       "<IPython.core.display.HTML object>"
      ]
     },
     "metadata": {},
     "output_type": "display_data"
    },
    {
     "data": {
      "text/html": [
       "<a href=\"https://11f0f736521255cb-dot-us-central1.pipelines.googleusercontent.com/#/runs/details/89f7447f-6252-4a1a-95fd-c0c157600ce3\" target=\"_blank\" >Run details</a>."
      ],
      "text/plain": [
       "<IPython.core.display.HTML object>"
      ]
     },
     "metadata": {},
     "output_type": "display_data"
    },
    {
     "data": {
      "text/plain": [
       "RunPipelineResult(run_id=89f7447f-6252-4a1a-95fd-c0c157600ce3)"
      ]
     },
     "execution_count": 15,
     "metadata": {},
     "output_type": "execute_result"
    }
   ],
   "source": [
    "client.create_run_from_pipeline_func(pipeline_op, arguments={})"
   ]
  },
  {
   "cell_type": "code",
   "execution_count": null,
   "id": "1a86a115-89d7-49b1-b17b-86e64927296f",
   "metadata": {},
   "outputs": [],
   "source": []
  }
 ],
 "metadata": {
  "kernelspec": {
   "display_name": "kfp (ipykernel)",
   "language": "python",
   "name": "kfp"
  },
  "language_info": {
   "codemirror_mode": {
    "name": "ipython",
    "version": 3
   },
   "file_extension": ".py",
   "mimetype": "text/x-python",
   "name": "python",
   "nbconvert_exporter": "python",
   "pygments_lexer": "ipython3",
   "version": "3.7.11"
  }
 },
 "nbformat": 4,
 "nbformat_minor": 5
}
